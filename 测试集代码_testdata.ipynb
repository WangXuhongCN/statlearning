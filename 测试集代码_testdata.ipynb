{
 "cells": [
  {
   "cell_type": "code",
   "execution_count": 1,
   "metadata": {
    "collapsed": false
   },
   "outputs": [
    {
     "name": "stderr",
     "output_type": "stream",
     "text": [
      "Using TensorFlow backend.\n"
     ]
    }
   ],
   "source": [
    "from __future__ import print_function\n",
    "import keras\n",
    "from keras.preprocessing import image\n",
    "import numpy as np\n",
    "import pandas as pd\n",
    "from keras.models import Sequential\n",
    "import matplotlib.pyplot as plt\n",
    "import os\n",
    "\n",
    "%matplotlib inline"
   ]
  },
  {
   "cell_type": "code",
   "execution_count": 2,
   "metadata": {
    "collapsed": true
   },
   "outputs": [],
   "source": [
    "#load a model\n",
    "model=keras.models.load_model('D:/GitHub/statlearning/saved_models/keras_cifar10_trained_model.h5')"
   ]
  },
  {
   "cell_type": "code",
   "execution_count": 3,
   "metadata": {
    "collapsed": false
   },
   "outputs": [],
   "source": [
    "#读取图片\n",
    "image_path = 'F:/dataset/cifar10_testData'\n",
    "#结果存储\n",
    "result=[]\n",
    "for i in range(0,2175):\n",
    "    f = os.path.join(image_path, 'img-%.4d.jpg' % (i, ))\n",
    "    img = image.load_img(f, target_size=(32, 32))\n",
    "    x = image.img_to_array(img)\n",
    "    x = np.expand_dims(x, axis=0)\n",
    "    # 对图像进行分类\n",
    "    preds = model.predict(x)\n",
    "    preds=preds.flatten()\n",
    "    preds_l=preds.tolist()\n",
    "    result.append(preds_l.index(max(preds_l)))"
   ]
  },
  {
   "cell_type": "code",
   "execution_count": 4,
   "metadata": {
    "collapsed": false
   },
   "outputs": [],
   "source": [
    "#结果转化为文字\n",
    "result_class_word=[]\n",
    "for j in range(0,2175):\n",
    "    if result[j] == 0:\n",
    "        result_class_word.append('airplane')\n",
    "    elif result[j] == 1:\n",
    "        result_class_word.append('automoblie')\n",
    "    elif result[j] == 2:\n",
    "        result_class_word.append('bird')\n",
    "    elif result[j] == 3:\n",
    "        result_class_word.append('cat')\n",
    "    elif result[j] == 4:\n",
    "        result_class_word.append('deer')\n",
    "    elif result[j] == 5:\n",
    "        result_class_word.append('dog')\n",
    "    elif result[j] == 6:\n",
    "        result_class_word.append('frog')\n",
    "    elif result[j] == 7:\n",
    "        result_class_word.append('horse')\n",
    "    elif result[j] == 8:\n",
    "        result_class_word.append('ship')\n",
    "    else: \n",
    "        result_class_word.append('truck')\n",
    "\n",
    "#print(len(result_class_word))\n",
    "#print(result_class_word[7])"
   ]
  },
  {
   "cell_type": "code",
   "execution_count": null,
   "metadata": {
    "collapsed": true
   },
   "outputs": [],
   "source": []
  },
  {
   "cell_type": "code",
   "execution_count": 6,
   "metadata": {
    "collapsed": false
   },
   "outputs": [],
   "source": [
    "csv=pd.DataFrame(data=[result,result_class_word])\n",
    "csv.to_csv('D:/GitHub/statlearning/testresu.csv')"
   ]
  },
  {
   "cell_type": "code",
   "execution_count": null,
   "metadata": {
    "collapsed": true
   },
   "outputs": [],
   "source": []
  }
 ],
 "metadata": {
  "kernelspec": {
   "display_name": "Python 3",
   "language": "python",
   "name": "python3"
  },
  "language_info": {
   "codemirror_mode": {
    "name": "ipython",
    "version": 3
   },
   "file_extension": ".py",
   "mimetype": "text/x-python",
   "name": "python",
   "nbconvert_exporter": "python",
   "pygments_lexer": "ipython3",
   "version": "3.6.0"
  }
 },
 "nbformat": 4,
 "nbformat_minor": 2
}
